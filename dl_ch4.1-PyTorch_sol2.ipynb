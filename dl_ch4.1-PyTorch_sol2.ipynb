{
 "cells": [
  {
   "cell_type": "markdown",
   "metadata": {},
   "source": [
    "#### Solution using PyTorch for MNIST database 2\n",
    "\n",
    "Based on PyTorch tutorial [link](https://www.kaggle.com/oddrationale/mnist-in-csv/code)\n"
   ]
  },
  {
   "cell_type": "code",
   "execution_count": 1,
   "metadata": {},
   "outputs": [],
   "source": [
    "# Libraries required for data analysis and visualisation\n",
    "\n",
    "import pandas as pd\n",
    "import numpy as np\n",
    "import torch\n",
    "import torchvision\n",
    "import matplotlib.pyplot as plt    \n",
    "\n",
    "# Dataset and DataLoader are of particular importance as these will \n",
    "# structure the data such that the necessary mathematically operations\n",
    "# required to generate a model can be applied to the data.\n",
    "\n",
    "# For more details review: https://pytorch.org/tutorials/beginner/basics/data_tutorial.html\n",
    " \n",
    "\n",
    "from torch.utils.data import Dataset,DataLoader"
   ]
  },
  {
   "cell_type": "code",
   "execution_count": 2,
   "metadata": {},
   "outputs": [],
   "source": [
    "# MNIST data containing number label and values for pixel hue in a\n",
    "# 28x28 grid\n",
    "\n",
    "training_data = open('mnist_train.csv')\n",
    "\n"
   ]
  },
  {
   "cell_type": "code",
   "execution_count": 3,
   "metadata": {},
   "outputs": [],
   "source": [
    "# DataFrame based on training data\n",
    "\n",
    "training_data_df = pd.read_csv(training_data)"
   ]
  },
  {
   "cell_type": "code",
   "execution_count": 4,
   "metadata": {},
   "outputs": [
    {
     "data": {
      "text/html": [
       "<div>\n",
       "<style scoped>\n",
       "    .dataframe tbody tr th:only-of-type {\n",
       "        vertical-align: middle;\n",
       "    }\n",
       "\n",
       "    .dataframe tbody tr th {\n",
       "        vertical-align: top;\n",
       "    }\n",
       "\n",
       "    .dataframe thead th {\n",
       "        text-align: right;\n",
       "    }\n",
       "</style>\n",
       "<table border=\"1\" class=\"dataframe\">\n",
       "  <thead>\n",
       "    <tr style=\"text-align: right;\">\n",
       "      <th></th>\n",
       "      <th>label</th>\n",
       "      <th>1x1</th>\n",
       "      <th>1x2</th>\n",
       "      <th>1x3</th>\n",
       "      <th>1x4</th>\n",
       "      <th>1x5</th>\n",
       "      <th>1x6</th>\n",
       "      <th>1x7</th>\n",
       "      <th>1x8</th>\n",
       "      <th>1x9</th>\n",
       "      <th>...</th>\n",
       "      <th>28x19</th>\n",
       "      <th>28x20</th>\n",
       "      <th>28x21</th>\n",
       "      <th>28x22</th>\n",
       "      <th>28x23</th>\n",
       "      <th>28x24</th>\n",
       "      <th>28x25</th>\n",
       "      <th>28x26</th>\n",
       "      <th>28x27</th>\n",
       "      <th>28x28</th>\n",
       "    </tr>\n",
       "  </thead>\n",
       "  <tbody>\n",
       "    <tr>\n",
       "      <th>0</th>\n",
       "      <td>5</td>\n",
       "      <td>0</td>\n",
       "      <td>0</td>\n",
       "      <td>0</td>\n",
       "      <td>0</td>\n",
       "      <td>0</td>\n",
       "      <td>0</td>\n",
       "      <td>0</td>\n",
       "      <td>0</td>\n",
       "      <td>0</td>\n",
       "      <td>...</td>\n",
       "      <td>0</td>\n",
       "      <td>0</td>\n",
       "      <td>0</td>\n",
       "      <td>0</td>\n",
       "      <td>0</td>\n",
       "      <td>0</td>\n",
       "      <td>0</td>\n",
       "      <td>0</td>\n",
       "      <td>0</td>\n",
       "      <td>0</td>\n",
       "    </tr>\n",
       "    <tr>\n",
       "      <th>1</th>\n",
       "      <td>0</td>\n",
       "      <td>0</td>\n",
       "      <td>0</td>\n",
       "      <td>0</td>\n",
       "      <td>0</td>\n",
       "      <td>0</td>\n",
       "      <td>0</td>\n",
       "      <td>0</td>\n",
       "      <td>0</td>\n",
       "      <td>0</td>\n",
       "      <td>...</td>\n",
       "      <td>0</td>\n",
       "      <td>0</td>\n",
       "      <td>0</td>\n",
       "      <td>0</td>\n",
       "      <td>0</td>\n",
       "      <td>0</td>\n",
       "      <td>0</td>\n",
       "      <td>0</td>\n",
       "      <td>0</td>\n",
       "      <td>0</td>\n",
       "    </tr>\n",
       "    <tr>\n",
       "      <th>2</th>\n",
       "      <td>4</td>\n",
       "      <td>0</td>\n",
       "      <td>0</td>\n",
       "      <td>0</td>\n",
       "      <td>0</td>\n",
       "      <td>0</td>\n",
       "      <td>0</td>\n",
       "      <td>0</td>\n",
       "      <td>0</td>\n",
       "      <td>0</td>\n",
       "      <td>...</td>\n",
       "      <td>0</td>\n",
       "      <td>0</td>\n",
       "      <td>0</td>\n",
       "      <td>0</td>\n",
       "      <td>0</td>\n",
       "      <td>0</td>\n",
       "      <td>0</td>\n",
       "      <td>0</td>\n",
       "      <td>0</td>\n",
       "      <td>0</td>\n",
       "    </tr>\n",
       "    <tr>\n",
       "      <th>3</th>\n",
       "      <td>1</td>\n",
       "      <td>0</td>\n",
       "      <td>0</td>\n",
       "      <td>0</td>\n",
       "      <td>0</td>\n",
       "      <td>0</td>\n",
       "      <td>0</td>\n",
       "      <td>0</td>\n",
       "      <td>0</td>\n",
       "      <td>0</td>\n",
       "      <td>...</td>\n",
       "      <td>0</td>\n",
       "      <td>0</td>\n",
       "      <td>0</td>\n",
       "      <td>0</td>\n",
       "      <td>0</td>\n",
       "      <td>0</td>\n",
       "      <td>0</td>\n",
       "      <td>0</td>\n",
       "      <td>0</td>\n",
       "      <td>0</td>\n",
       "    </tr>\n",
       "    <tr>\n",
       "      <th>4</th>\n",
       "      <td>9</td>\n",
       "      <td>0</td>\n",
       "      <td>0</td>\n",
       "      <td>0</td>\n",
       "      <td>0</td>\n",
       "      <td>0</td>\n",
       "      <td>0</td>\n",
       "      <td>0</td>\n",
       "      <td>0</td>\n",
       "      <td>0</td>\n",
       "      <td>...</td>\n",
       "      <td>0</td>\n",
       "      <td>0</td>\n",
       "      <td>0</td>\n",
       "      <td>0</td>\n",
       "      <td>0</td>\n",
       "      <td>0</td>\n",
       "      <td>0</td>\n",
       "      <td>0</td>\n",
       "      <td>0</td>\n",
       "      <td>0</td>\n",
       "    </tr>\n",
       "  </tbody>\n",
       "</table>\n",
       "<p>5 rows × 785 columns</p>\n",
       "</div>"
      ],
      "text/plain": [
       "   label  1x1  1x2  1x3  1x4  1x5  1x6  1x7  1x8  1x9  ...  28x19  28x20  \\\n",
       "0      5    0    0    0    0    0    0    0    0    0  ...      0      0   \n",
       "1      0    0    0    0    0    0    0    0    0    0  ...      0      0   \n",
       "2      4    0    0    0    0    0    0    0    0    0  ...      0      0   \n",
       "3      1    0    0    0    0    0    0    0    0    0  ...      0      0   \n",
       "4      9    0    0    0    0    0    0    0    0    0  ...      0      0   \n",
       "\n",
       "   28x21  28x22  28x23  28x24  28x25  28x26  28x27  28x28  \n",
       "0      0      0      0      0      0      0      0      0  \n",
       "1      0      0      0      0      0      0      0      0  \n",
       "2      0      0      0      0      0      0      0      0  \n",
       "3      0      0      0      0      0      0      0      0  \n",
       "4      0      0      0      0      0      0      0      0  \n",
       "\n",
       "[5 rows x 785 columns]"
      ]
     },
     "execution_count": 4,
     "metadata": {},
     "output_type": "execute_result"
    }
   ],
   "source": [
    "# Sample of DateFrame values. Includes label and pixel hue values\n",
    "\n",
    "training_data_df.head()"
   ]
  },
  {
   "cell_type": "code",
   "execution_count": 5,
   "metadata": {},
   "outputs": [],
   "source": [
    "# Creating an MNIST Dataset that outputs an array consisting of the \n",
    "# number label and pixel hues for that number. ToTensor converst this\n",
    "# array to a tensor that can be used for processing by the GPU.\n",
    "\n",
    "\n",
    "\n",
    "class MNIST_Dataset(Dataset):\n",
    "    def __init__(self, path, transform=None):\n",
    "        # Create a DataFrame based on MNIST CSV file\n",
    "        num_pix_df = pd.read_csv(path)\n",
    "        # Series of number labels\n",
    "        self.num_labels = num_pix_df['label']\n",
    "        # DF for all pixel values\n",
    "        self.pix_vals = num_pix_df.iloc[:,1:].values \n",
    "        # Hue value of pixel from integer images\n",
    "        self.n_samples = len(num_pix_df)\n",
    "        self.transform = transform\n",
    "        \n",
    "    def __getitem__(self, index):\n",
    "        #Tuple pixel values and np array of number labels \n",
    "        sample = self.pix_vals[index],np.array(self.num_labels[index]) \n",
    "        if self.transform is not None:\n",
    "            sample = self.transform(sample)\n",
    "        return sample\n",
    "    \n",
    "    def __len__(self):\n",
    "        return self.n_samples\n",
    "    \n",
    "# Converts arrays to tensors\n",
    "\n",
    "class ToTensor:\n",
    "    def __call__(self, sample):\n",
    "        inputs, target=sample\n",
    "        return torch.from_numpy(inputs), torch.from_numpy(target)"
   ]
  },
  {
   "cell_type": "code",
   "execution_count": 24,
   "metadata": {},
   "outputs": [
    {
     "name": "stdout",
     "output_type": "stream",
     "text": [
      "<__main__.MNIST_Dataset object at 0x7f54e3f69070>\n"
     ]
    }
   ],
   "source": [
    "# Creating Training and Testing sets from my locally stored MNIST csv\n",
    "# files using the MNIST class created above\n",
    "\n",
    "training_path = open('mnist_train.csv')\n",
    "testing_path = open('mnist_test.csv')\n",
    "\n",
    "training_set = MNIST_Dataset(training_path, transform = ToTensor())\n",
    "testing_set = MNIST_Dataset(testing_path)"
   ]
  },
  {
   "cell_type": "code",
   "execution_count": 7,
   "metadata": {},
   "outputs": [
    {
     "data": {
      "text/plain": [
       "<matplotlib.image.AxesImage at 0x7f54e3f30580>"
      ]
     },
     "execution_count": 7,
     "metadata": {},
     "output_type": "execute_result"
    },
    {
     "data": {
      "image/png": "[encoded data removed]",
      "text/plain": [
       "<Figure size 432x288 with 1 Axes>"
      ]
     },
     "metadata": {
      "needs_background": "light"
     },
     "output_type": "display_data"
    }
   ],
   "source": [
    "# Here is a visual example of number from the data set\n",
    "\n",
    "example = training_set[0]\n",
    "plt.imshow(example[0].numpy().reshape(28,28))"
   ]
  },
  {
   "cell_type": "code",
   "execution_count": 8,
   "metadata": {},
   "outputs": [],
   "source": [
    "# Using PyTorch's in-built DataLoader function to structure batches for\n",
    "# training and testing data sets. Dividing the data in this way \n",
    "# improves GPU performance\n",
    "\n",
    "from torchvision import transforms\n",
    "\n",
    "training_loader=DataLoader(training_set,batch_size=100,shuffle=True)\n",
    "testing_loader=DataLoader(testing_set,batch_size=100,shuffle=True)\n",
    "\n"
   ]
  },
  {
   "cell_type": "code",
   "execution_count": 9,
   "metadata": {},
   "outputs": [
    {
     "data": {
      "text/plain": [
       "<matplotlib.image.AxesImage at 0x7f54e42b99a0>"
      ]
     },
     "execution_count": 9,
     "metadata": {},
     "output_type": "execute_result"
    },
    {
     "data": {
      "image/png": "[encoded data removed]",
      "text/plain": [
       "<Figure size 432x288 with 1 Axes>"
      ]
     },
     "metadata": {
      "needs_background": "light"
     },
     "output_type": "display_data"
    }
   ],
   "source": [
    "# Another visual example, this time a sample from the batch. Since\n",
    "# the data is shuffle it should adjust each time this command is run.\n",
    "\n",
    "plt.imshow(iter(training_loader).next()[0][0].reshape(28,28))"
   ]
  },
  {
   "cell_type": "code",
   "execution_count": 10,
   "metadata": {},
   "outputs": [
    {
     "data": {
      "text/plain": [
       "torch.int64"
      ]
     },
     "execution_count": 10,
     "metadata": {},
     "output_type": "execute_result"
    }
   ],
   "source": [
    "iter(training_loader).next()[0][0].dtype\n",
    "\n"
   ]
  },
  {
   "cell_type": "code",
   "execution_count": 11,
   "metadata": {},
   "outputs": [],
   "source": [
    "# Next we generate a neural net to perform the matrix operations on the\n",
    "# data. First some presets must be configured\n",
    "\n",
    "\n",
    "# we set this to 1 because the hues are greyscale image\n",
    "input_size=1\n",
    "# first convolution converts 1 channel to 16 channels in feature maps\n",
    "hid1_size=16\n",
    "# then to 32 channels\n",
    "hid2_size=32\n",
    "\n",
    "k_conv_size=5\n",
    "import torch.nn.functional as F"
   ]
  },
  {
   "cell_type": "code",
   "execution_count": 12,
   "metadata": {},
   "outputs": [],
   "source": [
    "# Class that defines the neutral net. This has two layers and the \n",
    "# forward function defines the process between the two layers to \n",
    "# progressively improve the prediction\n",
    "\n",
    "class Net(torch.nn.Module):\n",
    "    def __init__(self):\n",
    "        super().__init__()\n",
    "        \n",
    "        self.layer1=torch.nn.Sequential(\n",
    "        torch.nn.Conv2d(input_size,hid1_size,k_conv_size),\n",
    "        torch.nn.BatchNorm2d(hid1_size),\n",
    "        torch.nn.ReLU(),\n",
    "        torch.nn.MaxPool2d(kernel_size=2)\n",
    "            \n",
    "        )\n",
    "        \n",
    "        self.layer2=torch.nn.Sequential(\n",
    "            torch.nn.Conv2d(hid1_size,hid2_size,k_conv_size),\n",
    "            torch.nn.BatchNorm2d(hid2_size),\n",
    "            torch.nn.ReLU(),\n",
    "            torch.nn.MaxPool2d(kernel_size=2)\n",
    "        )\n",
    "        self.fc=torch.nn.Linear(512,10)\n",
    "        \n",
    "        \n",
    "    def forward(self,x):\n",
    "        x=self.layer1(x)\n",
    "        \n",
    "        x=self.layer2(x)\n",
    "        # Changing the image into one dimensional tensor for feeding \n",
    "        # the fully connected layers\n",
    "        x=x.reshape(x.shape[0],-1)\n",
    "       \n",
    "        x=self.fc(x)\n",
    "        return x"
   ]
  },
  {
   "cell_type": "code",
   "execution_count": 13,
   "metadata": {},
   "outputs": [
    {
     "data": {
      "text/plain": [
       "Net(\n",
       "  (layer1): Sequential(\n",
       "    (0): Conv2d(1, 16, kernel_size=(5, 5), stride=(1, 1))\n",
       "    (1): BatchNorm2d(16, eps=1e-05, momentum=0.1, affine=True, track_running_stats=True)\n",
       "    (2): ReLU()\n",
       "    (3): MaxPool2d(kernel_size=2, stride=2, padding=0, dilation=1, ceil_mode=False)\n",
       "  )\n",
       "  (layer2): Sequential(\n",
       "    (0): Conv2d(16, 32, kernel_size=(5, 5), stride=(1, 1))\n",
       "    (1): BatchNorm2d(32, eps=1e-05, momentum=0.1, affine=True, track_running_stats=True)\n",
       "    (2): ReLU()\n",
       "    (3): MaxPool2d(kernel_size=2, stride=2, padding=0, dilation=1, ceil_mode=False)\n",
       "  )\n",
       "  (fc): Linear(in_features=512, out_features=10, bias=True)\n",
       ")"
      ]
     },
     "execution_count": 13,
     "metadata": {},
     "output_type": "execute_result"
    }
   ],
   "source": [
    "# Generating the neural net from the GPU you - must be an NVIDIA model\n",
    "\n",
    "model=Net()\n",
    "device=torch.device('cuda')\n",
    "model.to(device)"
   ]
  },
  {
   "cell_type": "code",
   "execution_count": 14,
   "metadata": {},
   "outputs": [],
   "source": [
    "# Next we generate the loss function, in this case a Cross Entropy Loss\n",
    "\n",
    "lr=1e-3\n",
    "loss_fn=torch.nn.CrossEntropyLoss()\n",
    "optimizer=torch.optim.SGD(model.parameters(),lr=lr,momentum=0.9)"
   ]
  },
  {
   "cell_type": "code",
   "execution_count": 15,
   "metadata": {},
   "outputs": [],
   "source": [
    "# Setting the number of epochs for the model to run\n",
    "\n",
    "epochs=3\n",
    "loss_values=[]"
   ]
  },
  {
   "cell_type": "code",
   "execution_count": 16,
   "metadata": {},
   "outputs": [
    {
     "name": "stdout",
     "output_type": "stream",
     "text": [
      "tensor(2.3850, device='cuda:0', grad_fn=<NllLossBackward>)\n",
      "tensor(0.4731, device='cuda:0', grad_fn=<NllLossBackward>)\n",
      "tensor(0.2775, device='cuda:0', grad_fn=<NllLossBackward>)\n",
      "tensor(0.1814, device='cuda:0', grad_fn=<NllLossBackward>)\n",
      "tensor(0.1389, device='cuda:0', grad_fn=<NllLossBackward>)\n",
      "tensor(0.2109, device='cuda:0', grad_fn=<NllLossBackward>)\n",
      "tensor(0.1198, device='cuda:0', grad_fn=<NllLossBackward>)\n",
      "tensor(0.0751, device='cuda:0', grad_fn=<NllLossBackward>)\n",
      "tensor(0.1087, device='cuda:0', grad_fn=<NllLossBackward>)\n",
      "tensor(0.2166, device='cuda:0', grad_fn=<NllLossBackward>)\n",
      "tensor(0.0880, device='cuda:0', grad_fn=<NllLossBackward>)\n",
      "tensor(0.0940, device='cuda:0', grad_fn=<NllLossBackward>)\n",
      "tensor(0.0882, device='cuda:0', grad_fn=<NllLossBackward>)\n",
      "tensor(0.1470, device='cuda:0', grad_fn=<NllLossBackward>)\n",
      "tensor(0.0666, device='cuda:0', grad_fn=<NllLossBackward>)\n",
      "tensor(0.1056, device='cuda:0', grad_fn=<NllLossBackward>)\n",
      "tensor(0.0271, device='cuda:0', grad_fn=<NllLossBackward>)\n",
      "tensor(0.0549, device='cuda:0', grad_fn=<NllLossBackward>)\n"
     ]
    }
   ],
   "source": [
    "# Here the pixel hues are converted back to images. I wonder if there\n",
    "# would be a more direct way to analyse the images?\n",
    "\n",
    "\n",
    "targets=np.array([])\n",
    "preds=np.array([])\n",
    "for epoch in range(epochs):\n",
    "    for i,(img,target) in enumerate(training_loader):\n",
    "        img=img.reshape(100,1,28,28).float().to(device)\n",
    "        optimizer.zero_grad()\n",
    "        output=model(img)\n",
    "        pred=torch.argmax(output,axis=1)\n",
    "#         print(target,pred)\n",
    "        targets=np.hstack([targets,target.cpu().numpy()])\n",
    "        preds=np.hstack([preds,pred.cpu().numpy()])\n",
    "        loss=loss_fn(output,target.to(device))\n",
    "        \n",
    "        loss.backward()\n",
    "        optimizer.step()\n",
    "        if i % 100==0:\n",
    "            print(loss)"
   ]
  },
  {
   "cell_type": "code",
   "execution_count": 17,
   "metadata": {},
   "outputs": [],
   "source": [
    "from sklearn.metrics import accuracy_score,recall_score"
   ]
  },
  {
   "cell_type": "code",
   "execution_count": 18,
   "metadata": {},
   "outputs": [
    {
     "data": {
      "text/plain": [
       "0.9510111111111111"
      ]
     },
     "execution_count": 18,
     "metadata": {},
     "output_type": "execute_result"
    }
   ],
   "source": [
    "accuracy_score(targets,preds)"
   ]
  },
  {
   "cell_type": "code",
   "execution_count": 19,
   "metadata": {},
   "outputs": [
    {
     "data": {
      "text/plain": [
       "0.9506141148115714"
      ]
     },
     "execution_count": 19,
     "metadata": {},
     "output_type": "execute_result"
    }
   ],
   "source": [
    "recall_score(targets,preds,average='macro')"
   ]
  },
  {
   "cell_type": "code",
   "execution_count": null,
   "metadata": {},
   "outputs": [],
   "source": []
  }
 ],
 "metadata": {
  "kernelspec": {
   "display_name": "Python 3",
   "language": "python",
   "name": "python3"
  },
  "language_info": {
   "codemirror_mode": {
    "name": "ipython",
    "version": 3
   },
   "file_extension": ".py",
   "mimetype": "text/x-python",
   "name": "python",
   "nbconvert_exporter": "python",
   "pygments_lexer": "ipython3",
   "version": "3.8.5"
  }
 },
 "nbformat": 4,
 "nbformat_minor": 4
}
